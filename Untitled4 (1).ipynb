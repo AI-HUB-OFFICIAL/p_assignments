{
  "nbformat": 4,
  "nbformat_minor": 0,
  "metadata": {
    "colab": {
      "provenance": []
    },
    "kernelspec": {
      "name": "python3",
      "display_name": "Python 3"
    },
    "language_info": {
      "name": "python"
    }
  },
  "cells": [
    {
      "cell_type": "code",
      "execution_count": null,
      "metadata": {
        "colab": {
          "base_uri": "https://localhost:8080/"
        },
        "id": "YtsLUQwyxlyQ",
        "outputId": "f35c157a-86a3-4735-f006-90e9973cea78"
      },
      "outputs": [
        {
          "output_type": "stream",
          "name": "stdout",
          "text": [
            "243\n"
          ]
        }
      ],
      "source": [
        "a: int = 3\n",
        "b: int = 5\n",
        "print( a ** b)"
      ]
    },
    {
      "cell_type": "code",
      "source": [
        "# Composition\n",
        "class Engine:\n",
        "    def start(self):\n",
        "        return \"Engine starting\"\n",
        "\n",
        "class Car:\n",
        "    def __init__(self):\n",
        "        self.engine = Engine()  # Composition: Car *has-a* Engine, and owns it\n",
        "\n",
        "    def start(self):\n",
        "        return f\"Car starting: {self.engine.start()}\"\n",
        "\n",
        "# Aggregation\n",
        "class Department:\n",
        "    def __init__(self, name):\n",
        "        self.name = name\n",
        "\n",
        "class University:\n",
        "    def __init__(self, name):\n",
        "        self.name = name\n",
        "        self.departments = []  # University *has-a* Department, but doesn't own it\n",
        "\n",
        "    def add_department(self, department):\n",
        "        self.departments.append(department)\n",
        "        return self.departments\n",
        "\n",
        "c1 = Car()\n",
        "c1.start()\n",
        "d1 = Department(\"Urdu\")\n",
        "d1.name\n",
        "u1 = University(\"AA\")\n",
        "u1.add_department(d1)\n",
        "u1.departments[0].name\n",
        "\n",
        "\n",
        "\n"
      ],
      "metadata": {
        "colab": {
          "base_uri": "https://localhost:8080/",
          "height": 36
        },
        "id": "zgiUdgEWkSFo",
        "outputId": "317bb17c-00f1-423a-c899-0c8b52411368"
      },
      "execution_count": null,
      "outputs": [
        {
          "output_type": "execute_result",
          "data": {
            "text/plain": [
              "'Urdu'"
            ],
            "application/vnd.google.colaboratory.intrinsic+json": {
              "type": "string"
            }
          },
          "metadata": {},
          "execution_count": 16
        }
      ]
    },
    {
      "cell_type": "code",
      "source": [
        "my_string: str = \"Hello, World! Hello, Pakistan\"\n",
        "# find the index of a substring\n",
        "starting_index = my_string.find('Hello') # Index value of the first occurance of the word 'Hello'\n",
        "print(\"starting_index = \", starting_index)  # prints 0\n",
        "\n",
        "\n",
        "# Now lets find the second occurance of the word 'Hello'\n",
        "# index value start from zero\n",
        "\n",
        "starting_index2: str = starting_index + len(\"Hello,\") #len=5\n",
        "\n",
        "print(my_string[starting_index2:] ) # after slicing \", World! Hello, Pakistan\n",
        "print(my_string[starting_index2:].find(\"Hello\")) # Starting index 9, because of slicing \", World! Hello, Pakistan\"\n"
      ],
      "metadata": {
        "colab": {
          "base_uri": "https://localhost:8080/"
        },
        "id": "GM-PyqBVnmPq",
        "outputId": "a512b049-95d3-4bb4-9156-b13950a75add"
      },
      "execution_count": null,
      "outputs": [
        {
          "output_type": "stream",
          "name": "stdout",
          "text": [
            "starting_index =  0\n",
            " World! Hello, Pakistan\n",
            "8\n"
          ]
        }
      ]
    },
    {
      "cell_type": "code",
      "source": [
        "\n",
        "my_list_1: int = [1, 2, 3, \"Java\", 3.14, True] #Type hinting is not enforced in python, but you should mention appropriate data type in this case 'list'\n",
        "my_list: list = [1, 2, 3, \"Python\", 3.14, 3+2j]\n",
        "\n",
        "print(type(my_list_1), \" my_list_1 = \", my_list_1)  #\n",
        "print(type(my_list), \" my_list   =  \" +str(my_list), type(my_list))"
      ],
      "metadata": {
        "colab": {
          "base_uri": "https://localhost:8080/"
        },
        "id": "aOTKWKcWVpK8",
        "outputId": "a3b59024-e29e-4613-e67a-37c43b610c1f"
      },
      "execution_count": null,
      "outputs": [
        {
          "output_type": "stream",
          "name": "stdout",
          "text": [
            "<class 'list'>  my_list_1 =  [1, 2, 3, 'Java', 3.14, True]\n",
            "<class 'list'>  my_list   =  [1, 2, 3, 'Python', 3.14, (3+2j)] <class 'list'>\n"
          ]
        }
      ]
    },
    {
      "cell_type": "markdown",
      "source": [],
      "metadata": {
        "id": "Lvsgw-wLw5oO"
      }
    },
    {
      "cell_type": "code",
      "source": [
        "num_range: range = range(1, 10, 2) # range(start, stop, step)\n",
        "print(type(num_range), \" num_range = \", num_range.start)"
      ],
      "metadata": {
        "id": "cvCVqC-l0Ua_",
        "colab": {
          "base_uri": "https://localhost:8080/"
        },
        "outputId": "c265ac52-15cd-4909-8e9c-4e8783266d03"
      },
      "execution_count": null,
      "outputs": [
        {
          "output_type": "stream",
          "name": "stdout",
          "text": [
            "<class 'range'>  num_range =  1\n"
          ]
        }
      ]
    },
    {
      "cell_type": "code",
      "source": [
        "a = 10\n",
        "b= 3\n",
        "c = a+b\n",
        "#print(c)"
      ],
      "metadata": {
        "id": "zyT64-LVx7nq"
      },
      "execution_count": null,
      "outputs": []
    },
    {
      "cell_type": "code",
      "source": [
        "x: int = 10\n",
        "y: int = 5\n",
        "\n",
        "print( y < x)"
      ],
      "metadata": {
        "colab": {
          "base_uri": "https://localhost:8080/"
        },
        "id": "J1-AbRvy3D1H",
        "outputId": "d5877d4d-2ea6-4ad8-d41f-e696e27108fc"
      },
      "execution_count": null,
      "outputs": [
        {
          "output_type": "stream",
          "name": "stdout",
          "text": [
            "True\n"
          ]
        }
      ]
    },
    {
      "cell_type": "code",
      "source": [
        "st = {3, 2,8, 7}\n",
        "st"
      ],
      "metadata": {
        "colab": {
          "base_uri": "https://localhost:8080/"
        },
        "id": "rpBYp8HqXIM3",
        "outputId": "17ba8862-26b4-49e9-c73b-793db7b697be"
      },
      "execution_count": null,
      "outputs": [
        {
          "output_type": "execute_result",
          "data": {
            "text/plain": [
              "{2, 3, 7, 8}"
            ]
          },
          "metadata": {},
          "execution_count": 22
        }
      ]
    },
    {
      "cell_type": "code",
      "source": [
        "\n",
        "my_dict: dict = {\"name\": \"Alice\", \"age\": 25, \"language\": \"Python\"}\n",
        "print(my_dict)"
      ],
      "metadata": {
        "colab": {
          "base_uri": "https://localhost:8080/"
        },
        "id": "pVB39DCmXw8V",
        "outputId": "7b3b7bcf-2054-402b-9f21-0ef732af2503"
      },
      "execution_count": null,
      "outputs": [
        {
          "output_type": "stream",
          "name": "stdout",
          "text": [
            "{'name': 'Alice', 'age': 25, 'language': 'Python'}\n"
          ]
        }
      ]
    },
    {
      "cell_type": "code",
      "source": [
        "\n",
        "byte_array: bytearray = bytearray([65, 66, 67, 100]) #65=A, 66=B ....decimal number system\n",
        "print(type(byte_array), \" byte_array = \", byte_array)  #\n",
        "print(byte_array[0])\n",
        "print(chr(byte_array[0]))\n",
        "print(\"Empty bytearray(): \",bytearray())"
      ],
      "metadata": {
        "colab": {
          "base_uri": "https://localhost:8080/"
        },
        "id": "9_SRRTPdZ64_",
        "outputId": "6d831613-fbbc-464e-c39b-aec9e2d45330"
      },
      "execution_count": null,
      "outputs": [
        {
          "output_type": "stream",
          "name": "stdout",
          "text": [
            "<class 'bytearray'>  byte_array =  bytearray(b'ABCd')\n",
            "65\n",
            "A\n",
            "Empty bytearray():  bytearray(b'')\n"
          ]
        }
      ]
    },
    {
      "cell_type": "code",
      "source": [
        "class CountCalls:\n",
        "    def __init__(self, fun):\n",
        "        self.fun = fun\n",
        "        self.call_count = 0\n",
        "\n",
        "    def __call__(self, *args, **kwargs):\n",
        "        self.call_count += 1\n",
        "        print(f\"Decorator: Call {self.call_count} of {self.fun.__name__}\")\n",
        "        return(self.fun(*args, **kwargs))\n",
        "\n",
        "@CountCalls\n",
        "def say_hello(name):\n",
        "    print(f\"Hello, {name}!\")\n",
        "\n",
        "say_hello(\"Alice\")\n",
        "say_hello(\"Bob\")"
      ],
      "metadata": {
        "colab": {
          "base_uri": "https://localhost:8080/"
        },
        "id": "n0DvPaMtx8XJ",
        "outputId": "670cad03-bc67-431c-d3fd-72cd00cd44dd"
      },
      "execution_count": null,
      "outputs": [
        {
          "output_type": "stream",
          "name": "stdout",
          "text": [
            "Decorator: Call 1 of say_hello\n",
            "Hello, Alice!\n",
            "Decorator: Call 2 of say_hello\n",
            "Hello, Bob!\n"
          ]
        }
      ]
    },
    {
      "cell_type": "code",
      "source": [
        "# Define a class decorator\n",
        "def add_greeting(cls):\n",
        "    def greet(self):\n",
        "        return f\"Decorator: Hello from {self.__class__.__name__}  \", self.name\n",
        "    cls.greet = greet\n",
        "    return cls\n",
        "\n",
        "# Apply the decorator to a class\n",
        "@add_greeting\n",
        "class Person:\n",
        "    def __init__(self, name):\n",
        "        self.name = name\n",
        "\n",
        "# Create an instance of the decorated class\n",
        "person = Person(\"Alice\")\n",
        "print(person.greet())  # Output: Hello from Person"
      ],
      "metadata": {
        "colab": {
          "base_uri": "https://localhost:8080/"
        },
        "id": "FRRedt4m1BDb",
        "outputId": "7c1fe60f-e664-4241-ac10-1592902d3765"
      },
      "execution_count": null,
      "outputs": [
        {
          "output_type": "stream",
          "name": "stdout",
          "text": [
            "('Decorator: Hello from Person  ', 'Alice')\n"
          ]
        }
      ]
    },
    {
      "cell_type": "code",
      "source": [
        "class Person:\n",
        "    def __init__(self, name):\n",
        "        self._name = name  # Internal variable (convention: `_name`)\n",
        "\n",
        "    @property\n",
        "    def name(self):\n",
        "        \"\"\"Getter for name\"\"\"\n",
        "        return f\"{self._name}, you are welcome\"\n",
        "\n",
        "# Usage\n",
        "p = Person(\"Alice\")\n",
        "print(p.name)  # Like an attribute (no parentheses!)"
      ],
      "metadata": {
        "colab": {
          "base_uri": "https://localhost:8080/"
        },
        "id": "lD9yG6pi4GWS",
        "outputId": "db462681-d7df-47be-ab43-065fcb026501"
      },
      "execution_count": null,
      "outputs": [
        {
          "output_type": "stream",
          "name": "stdout",
          "text": [
            "Alice, you are welcome\n"
          ]
        }
      ]
    },
    {
      "cell_type": "code",
      "source": [
        "class Person:\n",
        "    def __init__(self, weight_kg, height_m):\n",
        "        self.weight = weight_kg\n",
        "        self.height = height_m\n",
        "\n",
        "    @property\n",
        "    def bmi(self):\n",
        "        \"\"\"Body Mass Index (weight / height²)\"\"\"\n",
        "        return self.weight / (self.height ** 2)\n",
        "    @bmi.setter\n",
        "    def bmi(self, newbmi):\n",
        "      return self.weight / self.height    # Output: 22.857...\n",
        "\n"
      ],
      "metadata": {
        "id": "zbY7ms0T5ulZ"
      },
      "execution_count": null,
      "outputs": []
    },
    {
      "cell_type": "code",
      "source": [
        "# Iterate over a list\n",
        "fruits: list = [\"apple\", \"banana\", \"cherry\"]\n",
        "for f in fruits:\n",
        "    print(fruits)\n",
        "\n",
        "# Note: Membership Operators in Python in, not in"
      ],
      "metadata": {
        "colab": {
          "base_uri": "https://localhost:8080/"
        },
        "id": "40Q0iMe6BfeV",
        "outputId": "7942906b-7bff-44e8-e596-77130a520c08"
      },
      "execution_count": null,
      "outputs": [
        {
          "output_type": "stream",
          "name": "stdout",
          "text": [
            "['apple', 'banana', 'cherry']\n",
            "['apple', 'banana', 'cherry']\n",
            "['apple', 'banana', 'cherry']\n"
          ]
        }
      ]
    },
    {
      "cell_type": "code",
      "source": [
        "# Iterate over a string\n",
        "word: str = [\"Python\"]\n",
        "for letter in word:\n",
        "    print(letter)\n"
      ],
      "metadata": {
        "colab": {
          "base_uri": "https://localhost:8080/"
        },
        "id": "kJXWDYfpCUvx",
        "outputId": "a4d2797f-319a-4bbe-a8c9-3ffdeb48dfb3"
      },
      "execution_count": null,
      "outputs": [
        {
          "output_type": "stream",
          "name": "stdout",
          "text": [
            "Python\n"
          ]
        }
      ]
    },
    {
      "cell_type": "code",
      "source": [
        "\n",
        "numbers = [1, 2, 3, 4, 5]\n",
        "\n",
        "for num in numbers:\n",
        "    if num == 3:\n",
        "        print(\"Breaking the loop!\")\n",
        "        break\n",
        "    print(num)\n",
        "\n",
        "else:\n",
        "    print(\"Loop completed successfully!\")  # This will NOT run"
      ],
      "metadata": {
        "colab": {
          "base_uri": "https://localhost:8080/"
        },
        "id": "Lpu74gqsD36d",
        "outputId": "ae7323d4-2982-47b3-8f53-83160ef2ae59"
      },
      "execution_count": null,
      "outputs": [
        {
          "output_type": "stream",
          "name": "stdout",
          "text": [
            "1\n",
            "2\n",
            "Breaking the loop!\n"
          ]
        }
      ]
    },
    {
      "cell_type": "code",
      "source": [
        "for i in range(2, 11, 3):\n",
        "  print(i)"
      ],
      "metadata": {
        "colab": {
          "base_uri": "https://localhost:8080/"
        },
        "id": "qj_mph4dEw95",
        "outputId": "3ceab097-b801-4632-cf0d-7a588777ce28"
      },
      "execution_count": null,
      "outputs": [
        {
          "output_type": "stream",
          "name": "stdout",
          "text": [
            "2\n",
            "5\n",
            "8\n"
          ]
        }
      ]
    },
    {
      "cell_type": "code",
      "source": [
        "# Sum numbers from 1 to 100\n",
        "total: int = 0\n",
        "for i in range(1, 101):\n",
        "    total += i\n",
        "print(\"Sum of numbers from 1 to 100:\", total)"
      ],
      "metadata": {
        "colab": {
          "base_uri": "https://localhost:8080/"
        },
        "id": "OA9t6lkRSFU0",
        "outputId": "083206a0-e2ba-4773-9048-6c4a67534ea5"
      },
      "execution_count": null,
      "outputs": [
        {
          "output_type": "stream",
          "name": "stdout",
          "text": [
            "Sum of numbers from 1 to 100: 5050\n"
          ]
        }
      ]
    },
    {
      "cell_type": "code",
      "source": [],
      "metadata": {
        "id": "1uX9clWmU4KC"
      },
      "execution_count": null,
      "outputs": []
    },
    {
      "cell_type": "code",
      "source": [],
      "metadata": {
        "id": "rrGPwZ1YVX0t"
      },
      "execution_count": null,
      "outputs": []
    },
    {
      "cell_type": "code",
      "source": [
        "def add(x, y):\n",
        "  return x + y\n",
        "\n",
        "def subtract(x, y):\n",
        "  return x - y\n",
        "\n",
        "def multiply(x, y):\n",
        "  return x * y\n",
        "\n",
        "def divide(x, y):\n",
        "  if y == 0:\n",
        "    return \"Error! Division by zero.\"\n",
        "  return x / y\n",
        "\n",
        "print(\"Select operation:\")\n",
        "print(\"1.Add\")\n",
        "print(\"2.Subtract\")\n",
        "print(\"3.Multiply\")\n",
        "print(\"4.Divide\")\n",
        "\n",
        "while True:\n",
        "  choice = input(\"Enter choice(1/2/3/4): \")\n",
        "\n",
        "  if choice in ('1', '2', '3', '4'):\n",
        "    try:\n",
        "      num1 = float(input(\"Enter first number: \"))\n",
        "      num2 = float(input(\"Enter second number: \"))\n",
        "    except ValueError:\n",
        "      print(\"Invalid input. Please enter a number.\")\n",
        "      continue\n",
        "\n",
        "    if choice == '1':\n",
        "      print(num1, \"+\", num2, \"=\", add(num1, num2))\n",
        "\n",
        "    elif choice == '2':\n",
        "      print(num1, \"-\", num2, \"=\", subtract(num1, num2))\n",
        "\n",
        "    elif choice == '3':\n",
        "      print(num1, \"*\", num2, \"=\", multiply(num1, num2))\n",
        "\n",
        "    elif choice == '4':\n",
        "      print(num1, \"/\", num2, \"=\", divide(num1, num2))\n",
        "\n",
        "    next_calculation = input(\"Let's do next calculation? (yes/no): \")\n",
        "    if next_calculation.lower() != 'yes':\n",
        "      break\n",
        "  else:\n",
        "    print(\"Invalid Input\")"
      ],
      "metadata": {
        "colab": {
          "base_uri": "https://localhost:8080/",
          "height": 473
        },
        "id": "y7aCYAt0Vpxf",
        "outputId": "8629dd29-c858-4f9f-d27e-74a9cccd2704"
      },
      "execution_count": null,
      "outputs": [
        {
          "output_type": "stream",
          "name": "stdout",
          "text": [
            "Select operation:\n",
            "1.Add\n",
            "2.Subtract\n",
            "3.Multiply\n",
            "4.Divide\n"
          ]
        },
        {
          "output_type": "error",
          "ename": "KeyboardInterrupt",
          "evalue": "Interrupted by user",
          "traceback": [
            "\u001b[0;31m---------------------------------------------------------------------------\u001b[0m",
            "\u001b[0;31mKeyboardInterrupt\u001b[0m                         Traceback (most recent call last)",
            "\u001b[0;32m/tmp/ipython-input-1271792125.py\u001b[0m in \u001b[0;36m<cell line: 0>\u001b[0;34m()\u001b[0m\n\u001b[1;32m     20\u001b[0m \u001b[0;34m\u001b[0m\u001b[0m\n\u001b[1;32m     21\u001b[0m \u001b[0;32mwhile\u001b[0m \u001b[0;32mTrue\u001b[0m\u001b[0;34m:\u001b[0m\u001b[0;34m\u001b[0m\u001b[0;34m\u001b[0m\u001b[0m\n\u001b[0;32m---> 22\u001b[0;31m   \u001b[0mchoice\u001b[0m \u001b[0;34m=\u001b[0m \u001b[0minput\u001b[0m\u001b[0;34m(\u001b[0m\u001b[0;34m\"Enter choice(1/2/3/4): \"\u001b[0m\u001b[0;34m)\u001b[0m\u001b[0;34m\u001b[0m\u001b[0;34m\u001b[0m\u001b[0m\n\u001b[0m\u001b[1;32m     23\u001b[0m \u001b[0;34m\u001b[0m\u001b[0m\n\u001b[1;32m     24\u001b[0m   \u001b[0;32mif\u001b[0m \u001b[0mchoice\u001b[0m \u001b[0;32min\u001b[0m \u001b[0;34m(\u001b[0m\u001b[0;34m'1'\u001b[0m\u001b[0;34m,\u001b[0m \u001b[0;34m'2'\u001b[0m\u001b[0;34m,\u001b[0m \u001b[0;34m'3'\u001b[0m\u001b[0;34m,\u001b[0m \u001b[0;34m'4'\u001b[0m\u001b[0;34m)\u001b[0m\u001b[0;34m:\u001b[0m\u001b[0;34m\u001b[0m\u001b[0;34m\u001b[0m\u001b[0m\n",
            "\u001b[0;32m/usr/local/lib/python3.11/dist-packages/ipykernel/kernelbase.py\u001b[0m in \u001b[0;36mraw_input\u001b[0;34m(self, prompt)\u001b[0m\n\u001b[1;32m   1175\u001b[0m                 \u001b[0;34m\"raw_input was called, but this frontend does not support input requests.\"\u001b[0m\u001b[0;34m\u001b[0m\u001b[0;34m\u001b[0m\u001b[0m\n\u001b[1;32m   1176\u001b[0m             )\n\u001b[0;32m-> 1177\u001b[0;31m         return self._input_request(\n\u001b[0m\u001b[1;32m   1178\u001b[0m             \u001b[0mstr\u001b[0m\u001b[0;34m(\u001b[0m\u001b[0mprompt\u001b[0m\u001b[0;34m)\u001b[0m\u001b[0;34m,\u001b[0m\u001b[0;34m\u001b[0m\u001b[0;34m\u001b[0m\u001b[0m\n\u001b[1;32m   1179\u001b[0m             \u001b[0mself\u001b[0m\u001b[0;34m.\u001b[0m\u001b[0m_parent_ident\u001b[0m\u001b[0;34m[\u001b[0m\u001b[0;34m\"shell\"\u001b[0m\u001b[0;34m]\u001b[0m\u001b[0;34m,\u001b[0m\u001b[0;34m\u001b[0m\u001b[0;34m\u001b[0m\u001b[0m\n",
            "\u001b[0;32m/usr/local/lib/python3.11/dist-packages/ipykernel/kernelbase.py\u001b[0m in \u001b[0;36m_input_request\u001b[0;34m(self, prompt, ident, parent, password)\u001b[0m\n\u001b[1;32m   1217\u001b[0m             \u001b[0;32mexcept\u001b[0m \u001b[0mKeyboardInterrupt\u001b[0m\u001b[0;34m:\u001b[0m\u001b[0;34m\u001b[0m\u001b[0;34m\u001b[0m\u001b[0m\n\u001b[1;32m   1218\u001b[0m                 \u001b[0;31m# re-raise KeyboardInterrupt, to truncate traceback\u001b[0m\u001b[0;34m\u001b[0m\u001b[0;34m\u001b[0m\u001b[0m\n\u001b[0;32m-> 1219\u001b[0;31m                 \u001b[0;32mraise\u001b[0m \u001b[0mKeyboardInterrupt\u001b[0m\u001b[0;34m(\u001b[0m\u001b[0;34m\"Interrupted by user\"\u001b[0m\u001b[0;34m)\u001b[0m \u001b[0;32mfrom\u001b[0m \u001b[0;32mNone\u001b[0m\u001b[0;34m\u001b[0m\u001b[0;34m\u001b[0m\u001b[0m\n\u001b[0m\u001b[1;32m   1220\u001b[0m             \u001b[0;32mexcept\u001b[0m \u001b[0mException\u001b[0m\u001b[0;34m:\u001b[0m\u001b[0;34m\u001b[0m\u001b[0;34m\u001b[0m\u001b[0m\n\u001b[1;32m   1221\u001b[0m                 \u001b[0mself\u001b[0m\u001b[0;34m.\u001b[0m\u001b[0mlog\u001b[0m\u001b[0;34m.\u001b[0m\u001b[0mwarning\u001b[0m\u001b[0;34m(\u001b[0m\u001b[0;34m\"Invalid Message:\"\u001b[0m\u001b[0;34m,\u001b[0m \u001b[0mexc_info\u001b[0m\u001b[0;34m=\u001b[0m\u001b[0;32mTrue\u001b[0m\u001b[0;34m)\u001b[0m\u001b[0;34m\u001b[0m\u001b[0;34m\u001b[0m\u001b[0m\n",
            "\u001b[0;31mKeyboardInterrupt\u001b[0m: Interrupted by user"
          ]
        }
      ]
    },
    {
      "cell_type": "code",
      "source": [
        "tuple_1: tuple = (10, 20, 30) # tuple\n",
        "tuple_2: tuple = (10, 20, 30) # tuple\n",
        "\n",
        "print(\"id(tuple_1) = \", id(tuple_1)) # unique memory address\n",
        "print(\"id(tuple_2) = \", id(tuple_2)) # unique memory address\n",
        "\n",
        "print(\"tuple_1 == tuple_2 = \", id(tuple_1) == id(tuple_2)) # comparing by value"
      ],
      "metadata": {
        "id": "N9irAbyTlOKQ"
      },
      "execution_count": null,
      "outputs": []
    },
    {
      "cell_type": "code",
      "source": [
        "# Tuples in Python\n",
        "\n",
        "# A tuple is an `ordered`, `immutable` (unchangeable) sequence of elements.\n",
        "# Tuples are useful for fixed data collections.\n",
        "\n",
        "# Creating a Tuple\n",
        "tuple1: tuple      = tuple([\"apple\", \"banana\", \"cherry\"])  # cast a list into tuple\n",
        "tuple2: tuple      = (10, 20, 30)  # tuple\n",
        "mixed_tuple: tuple = (\"hello\", 42, 3.14, True)  # tuple\n",
        "\n",
        "print(\"tuple1      =\", tuple1)\n",
        "print(\"tuple2      =\", tuple2)\n",
        "print(\"mixed_tuple =\", mixed_tuple)\n",
        "\n",
        "# Accessing elements in a tuple\n",
        "print(\"tuple1[0] =\", tuple1[0])  # Accessing first element\n",
        "\n",
        "# Tuple slicing\n",
        "print(\"tuple2[1:] =\", tuple2[1:])  # Slicing from index 1\n",
        "\n",
        "# Tuple length\n",
        "print(\"Length of tuple1:\", len(tuple1))\n",
        "\n",
        "# Iterating through a tuple\n",
        "print(\"Iterating through tuple2:\")\n",
        "for item in tuple2:\n",
        "  print(item)\n",
        "\n",
        "# Checking if an item exists in a tuple\n",
        "print(\"Is 20 in tuple2?\", 20 in tuple2)\n",
        "\n",
        "# Concatenating tuples\n",
        "tuple3: tuple = tuple1 + tuple2\n",
        "print(\"tuple1 + tuple2 =\", tuple3)\n",
        "\n",
        "# Repeating tuples\n",
        "tuple4: tuple = tuple2 * 2\n",
        "print(\"tuple2 * 2 =\", tuple4)\n",
        "\n",
        "# Nested tuples\n",
        "nested_tuple = (tuple1, tuple2)\n",
        "print(\"nested_tuple =\", nested_tuple)\n",
        "\n",
        "# Unpacking tuples\n",
        "a, b, c = tuple1\n",
        "print(\"Unpacking tuple1:\", a, b)\n",
        "\n",
        "# Using tuples as keys in dictionaries (because they are immutable)\n",
        "my_dict = {tuple1: \"This is a tuple key\", tuple2: \"Another tuple key\"}\n",
        "print(\"Dictionary with tuple keys:\", my_dict)\n",
        "\n",
        "#Trying to modify a tuple will result in a TypeError\n",
        "# tuple1[0] = \"watermelon\" #immutable. This line will raise an error. Uncomment to test."
      ],
      "metadata": {
        "id": "GJmlfloHm1wf"
      },
      "execution_count": null,
      "outputs": []
    },
    {
      "cell_type": "code",
      "source": [
        "fruits: list = [\"apple\", \"banana\", \"cherry\"]\n",
        "fruits[-3] = 23 # replacing \"apple\" with \"watermelon\"\n",
        "print(fruits)  # Output: ['watermelon', 'banana', 'cherry']\n",
        "fruits.extend([\"mango\", \"apple\"])\n",
        "print(fruits)"
      ],
      "metadata": {
        "id": "8BkQC2sRItHP"
      },
      "execution_count": null,
      "outputs": []
    },
    {
      "cell_type": "code",
      "source": [
        "fruits.remove(\"banana\")  # Removes 'banana' # run multiple times to see error as \"banana\" is already removed\n",
        "print(fruits)\n",
        "fruits.remove(\"banana\")\n",
        "print(fruits)"
      ],
      "metadata": {
        "id": "wLWDj-kqMQtX"
      },
      "execution_count": null,
      "outputs": []
    },
    {
      "cell_type": "code",
      "source": [
        "deleted = fruits.remove(\"mango\")  # Removes and returns the element at index 1 # run it multiple time to see error\n",
        "print(\"deleted element = \", deleted)  # Output: 'cherry'\n",
        "print(fruits) # Output: ['watermelon', 'mango', 'grape', 'kiwi']"
      ],
      "metadata": {
        "colab": {
          "base_uri": "https://localhost:8080/",
          "height": 198
        },
        "id": "GchES_A2NT3g",
        "outputId": "7a42b905-5cb1-4315-8fc8-c0448ac3e61d"
      },
      "execution_count": null,
      "outputs": [
        {
          "output_type": "error",
          "ename": "ValueError",
          "evalue": "list.remove(x): x not in list",
          "traceback": [
            "\u001b[0;31m---------------------------------------------------------------------------\u001b[0m",
            "\u001b[0;31mValueError\u001b[0m                                Traceback (most recent call last)",
            "\u001b[0;32m/tmp/ipython-input-2189349684.py\u001b[0m in \u001b[0;36m<cell line: 0>\u001b[0;34m()\u001b[0m\n\u001b[0;32m----> 1\u001b[0;31m \u001b[0mdeleted\u001b[0m \u001b[0;34m=\u001b[0m \u001b[0mfruits\u001b[0m\u001b[0;34m.\u001b[0m\u001b[0mremove\u001b[0m\u001b[0;34m(\u001b[0m\u001b[0;34m\"mango\"\u001b[0m\u001b[0;34m)\u001b[0m  \u001b[0;31m# Removes and returns the element at index 1 # run it multiple time to see error\u001b[0m\u001b[0;34m\u001b[0m\u001b[0;34m\u001b[0m\u001b[0m\n\u001b[0m\u001b[1;32m      2\u001b[0m \u001b[0mprint\u001b[0m\u001b[0;34m(\u001b[0m\u001b[0;34m\"deleted element = \"\u001b[0m\u001b[0;34m,\u001b[0m \u001b[0mdeleted\u001b[0m\u001b[0;34m)\u001b[0m  \u001b[0;31m# Output: 'cherry'\u001b[0m\u001b[0;34m\u001b[0m\u001b[0;34m\u001b[0m\u001b[0m\n\u001b[1;32m      3\u001b[0m \u001b[0mprint\u001b[0m\u001b[0;34m(\u001b[0m\u001b[0mfruits\u001b[0m\u001b[0;34m)\u001b[0m \u001b[0;31m# Output: ['watermelon', 'mango', 'grape', 'kiwi']\u001b[0m\u001b[0;34m\u001b[0m\u001b[0;34m\u001b[0m\u001b[0m\n",
            "\u001b[0;31mValueError\u001b[0m: list.remove(x): x not in list"
          ]
        }
      ]
    },
    {
      "cell_type": "code",
      "source": [
        "numbers: list[int] = [\"banana\", \"apple\"] # unsorted list\n",
        "numbers.sort()\n",
        "print(numbers)  # Output: [1, 1, 3, 4, 5, 9]"
      ],
      "metadata": {
        "id": "8pds-GV6OCwy",
        "outputId": "71cb3954-7477-4299-b9a7-14e6f767eac8",
        "colab": {
          "base_uri": "https://localhost:8080/"
        }
      },
      "execution_count": null,
      "outputs": [
        {
          "output_type": "stream",
          "name": "stdout",
          "text": [
            "['apple', 'banana']\n"
          ]
        }
      ]
    },
    {
      "cell_type": "code",
      "source": [
        "thisdict: dict = {\n",
        "  \"brand\": \"Ford\",\n",
        "  \"model\": \"Ford\",\n",
        "  \"year\": 1964,\n",
        "  \"year\": 2020 # this will overwrite the previous key:vlaue\n",
        "}\n",
        "print(thisdict)"
      ],
      "metadata": {
        "colab": {
          "base_uri": "https://localhost:8080/"
        },
        "id": "PUhgdgWYlAbF",
        "outputId": "b1b9701e-69e4-45b6-c00b-19be6f9eeaf1"
      },
      "execution_count": null,
      "outputs": [
        {
          "output_type": "stream",
          "name": "stdout",
          "text": [
            "{'brand': 'Ford', 'model': 'Ford', 'year': 2020}\n"
          ]
        }
      ]
    },
    {
      "cell_type": "code",
      "source": [
        "# Custom metaclass\n",
        "class Meta(type):\n",
        "    def __new__(cls, name, bases, att):\n",
        "        print(f\"Creating class: {name}\")\n",
        "        return super().__new__(cls, name, bases, att)\n",
        "\n",
        "# Class using the custom metaclass\n",
        "class MyClass(metaclass=Meta):\n",
        "    pass\n",
        "\n",
        "# Output: Creating class: MyClass\n"
      ],
      "metadata": {
        "colab": {
          "base_uri": "https://localhost:8080/"
        },
        "id": "iw7bPky_qWIO",
        "outputId": "7ff04c90-0ba5-4a3a-ad15-c590d5c850a1"
      },
      "execution_count": null,
      "outputs": [
        {
          "output_type": "stream",
          "name": "stdout",
          "text": [
            "Creating class: MyClass\n"
          ]
        }
      ]
    },
    {
      "cell_type": "code",
      "source": [
        "class Meta(type):\n",
        "  pass"
      ],
      "metadata": {
        "id": "7MRYZz73r7jW"
      },
      "execution_count": null,
      "outputs": []
    },
    {
      "cell_type": "code",
      "source": [
        "# Custom exception for insufficient funds\n",
        "class InsufficientFundsError(Exception):\n",
        "    def __init__(self, balance, amount):\n",
        "        super().__init__(f\"Insufficient funds: balance is {balance}, but {amount} was requested.\")\n",
        "        self.balance = balance\n",
        "        self.amount = amount\n",
        "\n",
        "# BankAccount class\n",
        "class BankAccount:\n",
        "    def __init__(self, account_holder, balance=0):\n",
        "        self.account_holder = account_holder\n",
        "        self.balance = balance\n",
        "\n",
        "    # Method to deposit money\n",
        "    def deposit(self, amount):\n",
        "        if amount <= 0:\n",
        "            raise ValueError(\"Deposit amount must be positive.\")\n",
        "        self.balance += amount\n",
        "        print(f\"Deposited {amount}. New balance: {self.balance}\")\n",
        "\n",
        "    # Method to withdraw money\n",
        "    def withdraw(self, amount):\n",
        "        if amount <= 0:\n",
        "            raise ValueError(\"Withdrawal amount must be positive.\")\n",
        "        if self.balance < amount:\n",
        "            raise InsufficientFundsError(self.balance, amount)\n",
        "        self.balance -= amount\n",
        "        print(f\"Withdrew {amount}. New balance: {self.balance}\")\n",
        "\n",
        "    # Method to display account details\n",
        "    def display(self):\n",
        "        print(f\"Account Holder: {self.account_holder}, Balance: {self.balance}\")\n",
        "\n",
        "# Create a BankAccount instance\n",
        "account = BankAccount(\"Alice\", 1000)\n",
        "\n",
        "# Deposit money\n",
        "try:\n",
        "    account.deposit(5000)  # Output: Deposited 500. New balance: 1500\n",
        "except ValueError as e:\n",
        "    print(e)\n",
        "\n",
        "# Withdraw money\n",
        "try:\n",
        "    account.withdraw(2000)  # Raises InsufficientFundsError\n",
        "except InsufficientFundsError as e:\n",
        "    print(e)  # Output: Insufficient funds: balance is 1500, but 2000 was requested.\n",
        "except ValueError as e:\n",
        "    print(e)\n",
        "\n",
        "# Display account details\n",
        "account.display()  # Output: Account Holder: Alice, Balance: 1500"
      ],
      "metadata": {
        "colab": {
          "base_uri": "https://localhost:8080/"
        },
        "id": "0qGtVzSJr-Rw",
        "outputId": "de4b54cd-afc8-493f-f8ec-650424e4b50a"
      },
      "execution_count": null,
      "outputs": [
        {
          "output_type": "stream",
          "name": "stdout",
          "text": [
            "Deposited 5000. New balance: 6000\n",
            "Withdrew 2000. New balance: 4000\n",
            "Account Holder: Alice, Balance: 4000\n"
          ]
        }
      ]
    }
  ]
}